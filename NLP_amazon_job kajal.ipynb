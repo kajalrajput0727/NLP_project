{
 "cells": [
  {
   "cell_type": "markdown",
   "id": "2d2856da-ef02-4639-bfd3-1114c06e403c",
   "metadata": {},
   "source": [
    "# Amazon_food_Reviews"
   ]
  },
  {
   "cell_type": "code",
   "execution_count": 7,
   "id": "4f8569e5-362c-4f49-9a9c-2bd10efbba4c",
   "metadata": {},
   "outputs": [],
   "source": [
    "import pandas as pd\n"
   ]
  },
  {
   "cell_type": "code",
   "execution_count": 8,
   "id": "b96c8fde-a9f0-4a25-9be8-554910fdca3d",
   "metadata": {},
   "outputs": [],
   "source": [
    "import warnings\n",
    "warnings.filterwarnings(\"ignore\")"
   ]
  },
  {
   "cell_type": "code",
   "execution_count": 10,
   "id": "5b14e4ba-322b-4aa5-9610-50ee8cac5afd",
   "metadata": {},
   "outputs": [],
   "source": [
    "af = pd.read_csv(r\"C:\\Users\\Admin\\OneDrive\\AmazonFoodReviews.csv\",encoding ='latin1')"
   ]
  },
  {
   "cell_type": "code",
   "execution_count": 11,
   "id": "c2d18879-779c-44d5-81b7-2b8d9a05432c",
   "metadata": {},
   "outputs": [
    {
     "data": {
      "text/html": [
       "<div>\n",
       "<style scoped>\n",
       "    .dataframe tbody tr th:only-of-type {\n",
       "        vertical-align: middle;\n",
       "    }\n",
       "\n",
       "    .dataframe tbody tr th {\n",
       "        vertical-align: top;\n",
       "    }\n",
       "\n",
       "    .dataframe thead th {\n",
       "        text-align: right;\n",
       "    }\n",
       "</style>\n",
       "<table border=\"1\" class=\"dataframe\">\n",
       "  <thead>\n",
       "    <tr style=\"text-align: right;\">\n",
       "      <th></th>\n",
       "      <th>Id</th>\n",
       "      <th>ProductId</th>\n",
       "      <th>UserId</th>\n",
       "      <th>ProfileName</th>\n",
       "      <th>HelpfulnessNumerator</th>\n",
       "      <th>HelpfulnessDenominator</th>\n",
       "      <th>Score</th>\n",
       "      <th>Time</th>\n",
       "      <th>Summary</th>\n",
       "      <th>Text</th>\n",
       "    </tr>\n",
       "  </thead>\n",
       "  <tbody>\n",
       "    <tr>\n",
       "      <th>0</th>\n",
       "      <td>1</td>\n",
       "      <td>B001E4KFG0</td>\n",
       "      <td>A3SGXH7AUHU8GW</td>\n",
       "      <td>delmartian</td>\n",
       "      <td>1</td>\n",
       "      <td>1</td>\n",
       "      <td>5</td>\n",
       "      <td>1303862400</td>\n",
       "      <td>Good Quality Dog Food</td>\n",
       "      <td>I have bought several of the Vitality canned d...</td>\n",
       "    </tr>\n",
       "    <tr>\n",
       "      <th>1</th>\n",
       "      <td>2</td>\n",
       "      <td>B00813GRG4</td>\n",
       "      <td>A1D87F6ZCVE5NK</td>\n",
       "      <td>dll pa</td>\n",
       "      <td>0</td>\n",
       "      <td>0</td>\n",
       "      <td>1</td>\n",
       "      <td>1346976000</td>\n",
       "      <td>Not as Advertised</td>\n",
       "      <td>Product arrived labeled as Jumbo Salted Peanut...</td>\n",
       "    </tr>\n",
       "    <tr>\n",
       "      <th>2</th>\n",
       "      <td>3</td>\n",
       "      <td>B000LQOCH0</td>\n",
       "      <td>ABXLMWJIXXAIN</td>\n",
       "      <td>Natalia Corres \"Natalia Corres\"</td>\n",
       "      <td>1</td>\n",
       "      <td>1</td>\n",
       "      <td>4</td>\n",
       "      <td>1219017600</td>\n",
       "      <td>\"Delight\" says it all</td>\n",
       "      <td>This is a confection that has been around a fe...</td>\n",
       "    </tr>\n",
       "    <tr>\n",
       "      <th>3</th>\n",
       "      <td>4</td>\n",
       "      <td>B000UA0QIQ</td>\n",
       "      <td>A395BORC6FGVXV</td>\n",
       "      <td>Karl</td>\n",
       "      <td>3</td>\n",
       "      <td>3</td>\n",
       "      <td>2</td>\n",
       "      <td>1307923200</td>\n",
       "      <td>Cough Medicine</td>\n",
       "      <td>If you are looking for the secret ingredient i...</td>\n",
       "    </tr>\n",
       "    <tr>\n",
       "      <th>4</th>\n",
       "      <td>5</td>\n",
       "      <td>B006K2ZZ7K</td>\n",
       "      <td>A1UQRSCLF8GW1T</td>\n",
       "      <td>Michael D. Bigham \"M. Wassir\"</td>\n",
       "      <td>0</td>\n",
       "      <td>0</td>\n",
       "      <td>5</td>\n",
       "      <td>1350777600</td>\n",
       "      <td>Great taffy</td>\n",
       "      <td>Great taffy at a great price.  There was a wid...</td>\n",
       "    </tr>\n",
       "  </tbody>\n",
       "</table>\n",
       "</div>"
      ],
      "text/plain": [
       "   Id   ProductId          UserId                      ProfileName  \\\n",
       "0   1  B001E4KFG0  A3SGXH7AUHU8GW                       delmartian   \n",
       "1   2  B00813GRG4  A1D87F6ZCVE5NK                           dll pa   \n",
       "2   3  B000LQOCH0   ABXLMWJIXXAIN  Natalia Corres \"Natalia Corres\"   \n",
       "3   4  B000UA0QIQ  A395BORC6FGVXV                             Karl   \n",
       "4   5  B006K2ZZ7K  A1UQRSCLF8GW1T    Michael D. Bigham \"M. Wassir\"   \n",
       "\n",
       "   HelpfulnessNumerator  HelpfulnessDenominator  Score        Time  \\\n",
       "0                     1                       1      5  1303862400   \n",
       "1                     0                       0      1  1346976000   \n",
       "2                     1                       1      4  1219017600   \n",
       "3                     3                       3      2  1307923200   \n",
       "4                     0                       0      5  1350777600   \n",
       "\n",
       "                 Summary                                               Text  \n",
       "0  Good Quality Dog Food  I have bought several of the Vitality canned d...  \n",
       "1      Not as Advertised  Product arrived labeled as Jumbo Salted Peanut...  \n",
       "2  \"Delight\" says it all  This is a confection that has been around a fe...  \n",
       "3         Cough Medicine  If you are looking for the secret ingredient i...  \n",
       "4            Great taffy  Great taffy at a great price.  There was a wid...  "
      ]
     },
     "execution_count": 11,
     "metadata": {},
     "output_type": "execute_result"
    }
   ],
   "source": [
    "af.head()"
   ]
  },
  {
   "cell_type": "code",
   "execution_count": 27,
   "id": "b55a8e0b-4e0c-467a-9701-9c00f54f6565",
   "metadata": {},
   "outputs": [],
   "source": [
    "#af.rename(columns = {'Score': 'Y', 'Text': 'X'} , inplace= True)\n",
    "af.Score.replace({1:1,2:1,3:2,4:3,5:3},inplace = True)"
   ]
  },
  {
   "cell_type": "code",
   "execution_count": 28,
   "id": "12d3aea9-b736-43ea-9447-d947746e8f2e",
   "metadata": {},
   "outputs": [],
   "source": [
    "#af.drop([\"Id\"] , axis=1)"
   ]
  },
  {
   "cell_type": "code",
   "execution_count": 29,
   "id": "880b7b65-f170-4156-a698-d6dc955c57d1",
   "metadata": {},
   "outputs": [
    {
     "data": {
      "text/html": [
       "<div>\n",
       "<style scoped>\n",
       "    .dataframe tbody tr th:only-of-type {\n",
       "        vertical-align: middle;\n",
       "    }\n",
       "\n",
       "    .dataframe tbody tr th {\n",
       "        vertical-align: top;\n",
       "    }\n",
       "\n",
       "    .dataframe thead th {\n",
       "        text-align: right;\n",
       "    }\n",
       "</style>\n",
       "<table border=\"1\" class=\"dataframe\">\n",
       "  <thead>\n",
       "    <tr style=\"text-align: right;\">\n",
       "      <th></th>\n",
       "      <th>Id</th>\n",
       "      <th>ProductId</th>\n",
       "      <th>UserId</th>\n",
       "      <th>ProfileName</th>\n",
       "      <th>HelpfulnessNumerator</th>\n",
       "      <th>HelpfulnessDenominator</th>\n",
       "      <th>Score</th>\n",
       "      <th>Time</th>\n",
       "      <th>Summary</th>\n",
       "      <th>Text</th>\n",
       "    </tr>\n",
       "  </thead>\n",
       "  <tbody>\n",
       "    <tr>\n",
       "      <th>0</th>\n",
       "      <td>1</td>\n",
       "      <td>B001E4KFG0</td>\n",
       "      <td>A3SGXH7AUHU8GW</td>\n",
       "      <td>delmartian</td>\n",
       "      <td>1</td>\n",
       "      <td>1</td>\n",
       "      <td>2</td>\n",
       "      <td>1303862400</td>\n",
       "      <td>Good Quality Dog Food</td>\n",
       "      <td>i have bought several of the vitality canned d...</td>\n",
       "    </tr>\n",
       "    <tr>\n",
       "      <th>1</th>\n",
       "      <td>2</td>\n",
       "      <td>B00813GRG4</td>\n",
       "      <td>A1D87F6ZCVE5NK</td>\n",
       "      <td>dll pa</td>\n",
       "      <td>0</td>\n",
       "      <td>0</td>\n",
       "      <td>1</td>\n",
       "      <td>1346976000</td>\n",
       "      <td>Not as Advertised</td>\n",
       "      <td>product arrived labeled as jumbo salted peanut...</td>\n",
       "    </tr>\n",
       "    <tr>\n",
       "      <th>2</th>\n",
       "      <td>3</td>\n",
       "      <td>B000LQOCH0</td>\n",
       "      <td>ABXLMWJIXXAIN</td>\n",
       "      <td>Natalia Corres \"Natalia Corres\"</td>\n",
       "      <td>1</td>\n",
       "      <td>1</td>\n",
       "      <td>2</td>\n",
       "      <td>1219017600</td>\n",
       "      <td>\"Delight\" says it all</td>\n",
       "      <td>this is a confection that has been around a fe...</td>\n",
       "    </tr>\n",
       "    <tr>\n",
       "      <th>3</th>\n",
       "      <td>4</td>\n",
       "      <td>B000UA0QIQ</td>\n",
       "      <td>A395BORC6FGVXV</td>\n",
       "      <td>Karl</td>\n",
       "      <td>3</td>\n",
       "      <td>3</td>\n",
       "      <td>1</td>\n",
       "      <td>1307923200</td>\n",
       "      <td>Cough Medicine</td>\n",
       "      <td>if you are looking for the secret ingredient i...</td>\n",
       "    </tr>\n",
       "    <tr>\n",
       "      <th>4</th>\n",
       "      <td>5</td>\n",
       "      <td>B006K2ZZ7K</td>\n",
       "      <td>A1UQRSCLF8GW1T</td>\n",
       "      <td>Michael D. Bigham \"M. Wassir\"</td>\n",
       "      <td>0</td>\n",
       "      <td>0</td>\n",
       "      <td>2</td>\n",
       "      <td>1350777600</td>\n",
       "      <td>Great taffy</td>\n",
       "      <td>great taffy at a great price.  there was a wid...</td>\n",
       "    </tr>\n",
       "  </tbody>\n",
       "</table>\n",
       "</div>"
      ],
      "text/plain": [
       "   Id   ProductId          UserId                      ProfileName  \\\n",
       "0   1  B001E4KFG0  A3SGXH7AUHU8GW                       delmartian   \n",
       "1   2  B00813GRG4  A1D87F6ZCVE5NK                           dll pa   \n",
       "2   3  B000LQOCH0   ABXLMWJIXXAIN  Natalia Corres \"Natalia Corres\"   \n",
       "3   4  B000UA0QIQ  A395BORC6FGVXV                             Karl   \n",
       "4   5  B006K2ZZ7K  A1UQRSCLF8GW1T    Michael D. Bigham \"M. Wassir\"   \n",
       "\n",
       "   HelpfulnessNumerator  HelpfulnessDenominator  Score        Time  \\\n",
       "0                     1                       1      2  1303862400   \n",
       "1                     0                       0      1  1346976000   \n",
       "2                     1                       1      2  1219017600   \n",
       "3                     3                       3      1  1307923200   \n",
       "4                     0                       0      2  1350777600   \n",
       "\n",
       "                 Summary                                               Text  \n",
       "0  Good Quality Dog Food  i have bought several of the vitality canned d...  \n",
       "1      Not as Advertised  product arrived labeled as jumbo salted peanut...  \n",
       "2  \"Delight\" says it all  this is a confection that has been around a fe...  \n",
       "3         Cough Medicine  if you are looking for the secret ingredient i...  \n",
       "4            Great taffy  great taffy at a great price.  there was a wid...  "
      ]
     },
     "execution_count": 29,
     "metadata": {},
     "output_type": "execute_result"
    }
   ],
   "source": [
    "af.head()"
   ]
  },
  {
   "cell_type": "code",
   "execution_count": 30,
   "id": "1d48238f-8e22-4cd8-beac-f35cd914a336",
   "metadata": {},
   "outputs": [],
   "source": [
    "#af.Y.replace({2:1,3:2,4:2,5:2} , inplace = True)"
   ]
  },
  {
   "cell_type": "code",
   "execution_count": 31,
   "id": "c837a18c-b32c-4431-ad23-dcfb1818fd2c",
   "metadata": {},
   "outputs": [],
   "source": [
    "import nltk\n",
    "from nltk.corpus import stopwords\n",
    "l1 = list(stopwords.words('english'))"
   ]
  },
  {
   "cell_type": "code",
   "execution_count": 32,
   "id": "8c269a3e-cd7a-44c3-9be2-2d2ec89e467f",
   "metadata": {},
   "outputs": [],
   "source": [
    "af.Text = af.Text.str.lower()"
   ]
  },
  {
   "cell_type": "code",
   "execution_count": 20,
   "id": "4812d69b-afaf-4ab3-8048-1b9c4501aa7b",
   "metadata": {},
   "outputs": [
    {
     "data": {
      "text/plain": [
       "'!\"#$%&\\'()*+,-./:;<=>?@[\\\\]^_`{|}~'"
      ]
     },
     "execution_count": 20,
     "metadata": {},
     "output_type": "execute_result"
    }
   ],
   "source": [
    "import string\n",
    "#len(string.punctuation)\n",
    "string.punctuation"
   ]
  },
  {
   "cell_type": "code",
   "execution_count": 21,
   "id": "2fc6deb7-7564-4d84-8a63-ba539bc5d409",
   "metadata": {},
   "outputs": [],
   "source": [
    "def text_process(mess):\n",
    "    \"\"\"\n",
    "    1. remove the punctuation\n",
    "    2. remove the stopwords\n",
    "    3. return the list of clean textwords\n",
    "    \"\"\"\n",
    "    global nopunc\n",
    "    nopunc = [char for char in mess if char not in string.punctuation]\n",
    "    nopunc = \"\".join(nopunc)\n",
    "\n",
    "    return [ word for word in nopunc. split() if word not in l1]"
   ]
  },
  {
   "cell_type": "code",
   "execution_count": 22,
   "id": "3d7164fd-aebf-4e14-a5b6-02c93fa49ea0",
   "metadata": {},
   "outputs": [],
   "source": [
    "from sklearn.feature_extraction.text import CountVectorizer"
   ]
  },
  {
   "cell_type": "code",
   "execution_count": 23,
   "id": "b6fa1854-a6bf-45b6-8457-1e38313c8a1e",
   "metadata": {},
   "outputs": [],
   "source": [
    "#bow_transformer = CountVectorizer(analyzer=text_process).fit(af[\"X\"])\n",
    "bow_transformer = CountVectorizer(analyzer=text_process).fit(af['Text'])"
   ]
  },
  {
   "cell_type": "code",
   "execution_count": 24,
   "id": "19b2d4ae-9ed9-435e-9ca3-7664d4d58de0",
   "metadata": {},
   "outputs": [
    {
     "data": {
      "text/plain": [
       "240626"
      ]
     },
     "execution_count": 24,
     "metadata": {},
     "output_type": "execute_result"
    }
   ],
   "source": [
    "len(bow_transformer.vocabulary_)"
   ]
  },
  {
   "cell_type": "code",
   "execution_count": 25,
   "id": "edb00400-ce73-4f40-ab28-9bb9d2aae665",
   "metadata": {},
   "outputs": [],
   "source": [
    "#TDM = bow_transformer.transform(af[\"X\"])\n",
    "TDM = bow_transformer.transform(af['Text'])"
   ]
  },
  {
   "cell_type": "code",
   "execution_count": 26,
   "id": "a23606b7-fe4d-4f34-a9df-783263afc3f9",
   "metadata": {},
   "outputs": [
    {
     "data": {
      "text/plain": [
       "(568454, 240626)"
      ]
     },
     "execution_count": 26,
     "metadata": {},
     "output_type": "execute_result"
    }
   ],
   "source": [
    "TDM.shape"
   ]
  },
  {
   "cell_type": "code",
   "execution_count": 33,
   "id": "5670e534-4ab1-4c2d-b067-a803541df179",
   "metadata": {},
   "outputs": [],
   "source": [
    "#from sklearn.model_selection import train_test_split\n",
    "#train_x , test_x, train_y , test_y = train_test_split(TDM , af.Y)\n",
    "\n",
    "from sklearn.model_selection import train_test_split\n",
    "train_x,test_x, train_y, test_y = train_test_split(TDM,af.Score)"
   ]
  },
  {
   "cell_type": "code",
   "execution_count": 34,
   "id": "ecba3052-d93c-4866-87dd-82f13c9f35ca",
   "metadata": {},
   "outputs": [
    {
     "data": {
      "text/plain": [
       "array([[ 21709,   9354],\n",
       "       [  4516, 106535]], dtype=int64)"
      ]
     },
     "execution_count": 34,
     "metadata": {},
     "output_type": "execute_result"
    }
   ],
   "source": [
    "#from sklearn.metrics import confusion_matrix , accuracy_score , recall_score ,precision_score, f1_score , classification_report\n",
    "#from sklearn.linear_model  import LogisticRegression\n",
    "#logreg = LogisticRegression()\n",
    "#logreg.fit(train_x , train_y)\n",
    "#pred_log = logreg.predict(test_x)\n",
    "#tab_log = confusion_matrix(test_y , pred_log)\n",
    "#tab_log\n",
    "\n",
    "#logistic regression\n",
    "from sklearn.linear_model import LogisticRegression\n",
    "logreg = LogisticRegression()\n",
    "logreg.fit(train_x , train_y)\n",
    "pred_test = logreg.predict(test_x)\n",
    "pred_test\n",
    "from sklearn.metrics import confusion_matrix, classification_report\n",
    "tab1 = confusion_matrix(test_y,  pred_test)\n",
    "tab1"
   ]
  },
  {
   "cell_type": "code",
   "execution_count": 35,
   "id": "2c1dc10d-64e9-4264-af59-edf95723be3f",
   "metadata": {},
   "outputs": [
    {
     "name": "stdout",
     "output_type": "stream",
     "text": [
      "              precision    recall  f1-score   support\n",
      "\n",
      "           1       0.83      0.70      0.76     31063\n",
      "           2       0.92      0.96      0.94    111051\n",
      "\n",
      "    accuracy                           0.90    142114\n",
      "   macro avg       0.87      0.83      0.85    142114\n",
      "weighted avg       0.90      0.90      0.90    142114\n",
      "\n"
     ]
    }
   ],
   "source": [
    "#tab_log.diagonal().sum() *100 / tab_log.sum()\n",
    "\n",
    "from sklearn.metrics import classification_report\n",
    "print(classification_report(test_y,pred_test))"
   ]
  },
  {
   "cell_type": "code",
   "execution_count": 37,
   "id": "a7ceb0d9-1d5b-4a1c-ae7f-f37f616c3a41",
   "metadata": {},
   "outputs": [],
   "source": [
    "#print(classification_report(test_y , pred_log))"
   ]
  },
  {
   "cell_type": "code",
   "execution_count": 5,
   "id": "e9118eed-fb87-4d7e-83df-d7c05ca902f9",
   "metadata": {},
   "outputs": [],
   "source": [
    "# from sklearn.tree import DecisionTreeClassifier\n",
    "# dt = DecisionTreeClassifier()\n",
    "# dt.fit(train_x ,train_y)\n",
    "# pred_dt = dt.predict(test_x)\n",
    "# tab_dt = confusion_matrix(test_y , pred_dt)\n",
    "# tab_dt"
   ]
  },
  {
   "cell_type": "code",
   "execution_count": null,
   "id": "a9f894da-364d-4740-a78c-c7bc6607326f",
   "metadata": {},
   "outputs": [],
   "source": [
    "#tab_dt.diagonal().sum() *100 / tab_dt.sum()"
   ]
  },
  {
   "cell_type": "code",
   "execution_count": null,
   "id": "4e0f08e2-d57b-4237-81b3-0947f3568627",
   "metadata": {},
   "outputs": [],
   "source": [
    "#print(classification_report(test_y , pred_dt))"
   ]
  },
  {
   "cell_type": "code",
   "execution_count": 38,
   "id": "2665461b-edac-480d-870c-75def7832a66",
   "metadata": {},
   "outputs": [
    {
     "data": {
      "text/plain": [
       "array([[ 21286,   9777],\n",
       "       [  7193, 103858]], dtype=int64)"
      ]
     },
     "execution_count": 38,
     "metadata": {},
     "output_type": "execute_result"
    }
   ],
   "source": [
    "# from sklearn.naive_bayes import MultinomialNB\n",
    "# nb = MultinomialNB()\n",
    "# nb.fit(train_x ,train_y)\n",
    "# pred_nb = nb.predict(test_x)\n",
    "# tab_nb = confusion_matrix(test_y , pred_nb)\n",
    "# tab_nb\n",
    "\n",
    "from sklearn.naive_bayes import MultinomialNB\n",
    "nb = MultinomialNB()\n",
    "nb.fit(train_x, train_y)\n",
    "pred_nb = nb.predict(test_x)\n",
    "from sklearn.metrics import confusion_matrix\n",
    "tab_nb = confusion_matrix(test_y, pred_nb)\n",
    "tab_nb"
   ]
  },
  {
   "cell_type": "code",
   "execution_count": 39,
   "id": "655026ed-7264-494a-b410-a67c2472a1f5",
   "metadata": {},
   "outputs": [],
   "source": [
    "#tab_nb.diagonal().sum() *100 / tab_nb.sum()"
   ]
  },
  {
   "cell_type": "code",
   "execution_count": 56,
   "id": "dc7c13e1-08b9-4871-8f0f-780c9a8bf88d",
   "metadata": {},
   "outputs": [
    {
     "name": "stdout",
     "output_type": "stream",
     "text": [
      "              precision    recall  f1-score   support\n",
      "\n",
      "           1       0.75      0.69      0.72     31339\n",
      "           2       0.91      0.93      0.92    110775\n",
      "\n",
      "    accuracy                           0.88    142114\n",
      "   macro avg       0.83      0.81      0.82    142114\n",
      "weighted avg       0.88      0.88      0.88    142114\n",
      "\n"
     ]
    }
   ],
   "source": [
    "#print(classification_report(test_y , pred_nb))\n",
    "\n",
    "from sklearn.metrics import classification_report\n",
    "print(classification_report(test_y,pred_nb))"
   ]
  },
  {
   "cell_type": "code",
   "execution_count": null,
   "id": "f1a7ca58-d071-4863-97ce-99caa1d707ac",
   "metadata": {},
   "outputs": [],
   "source": []
  },
  {
   "cell_type": "code",
   "execution_count": null,
   "id": "af31510c-6a95-4b2d-b22f-11969ced78e4",
   "metadata": {},
   "outputs": [],
   "source": []
  },
  {
   "cell_type": "code",
   "execution_count": null,
   "id": "cb2caf40-7721-409e-b531-1630e5932562",
   "metadata": {},
   "outputs": [],
   "source": [
    "fraudlent = y \n",
    "1 fraud\n",
    "0 non fraud"
   ]
  },
  {
   "cell_type": "markdown",
   "id": "8508035a-9103-4046-828d-cefb25987f3c",
   "metadata": {},
   "source": [
    "# fake_job_postings"
   ]
  },
  {
   "cell_type": "code",
   "execution_count": 1,
   "id": "5865a4af-a9e4-4e03-9c9f-967a49abce5b",
   "metadata": {},
   "outputs": [],
   "source": [
    "import pandas as pd"
   ]
  },
  {
   "cell_type": "code",
   "execution_count": 2,
   "id": "ffa85a99-3a37-4566-a095-5fc5d7c180bc",
   "metadata": {},
   "outputs": [],
   "source": [
    "import warnings\n",
    "warnings.filterwarnings(\"ignore\")"
   ]
  },
  {
   "cell_type": "code",
   "execution_count": 3,
   "id": "c2f0c092-e4b1-4cab-95d3-adad223a2e6d",
   "metadata": {},
   "outputs": [],
   "source": [
    "job = pd.read_csv(r\"C:\\Users\\Admin\\OneDrive\\fake_job_postings.csv\")"
   ]
  },
  {
   "cell_type": "code",
   "execution_count": 4,
   "id": "a3307398-591c-4bd6-939f-8259127e91e6",
   "metadata": {},
   "outputs": [
    {
     "data": {
      "text/html": [
       "<div>\n",
       "<style scoped>\n",
       "    .dataframe tbody tr th:only-of-type {\n",
       "        vertical-align: middle;\n",
       "    }\n",
       "\n",
       "    .dataframe tbody tr th {\n",
       "        vertical-align: top;\n",
       "    }\n",
       "\n",
       "    .dataframe thead th {\n",
       "        text-align: right;\n",
       "    }\n",
       "</style>\n",
       "<table border=\"1\" class=\"dataframe\">\n",
       "  <thead>\n",
       "    <tr style=\"text-align: right;\">\n",
       "      <th></th>\n",
       "      <th>job_id</th>\n",
       "      <th>title</th>\n",
       "      <th>location</th>\n",
       "      <th>department</th>\n",
       "      <th>salary_range</th>\n",
       "      <th>company_profile</th>\n",
       "      <th>description</th>\n",
       "      <th>requirements</th>\n",
       "      <th>benefits</th>\n",
       "      <th>telecommuting</th>\n",
       "      <th>has_company_logo</th>\n",
       "      <th>has_questions</th>\n",
       "      <th>employment_type</th>\n",
       "      <th>required_experience</th>\n",
       "      <th>required_education</th>\n",
       "      <th>industry</th>\n",
       "      <th>function</th>\n",
       "      <th>fraudulent</th>\n",
       "    </tr>\n",
       "  </thead>\n",
       "  <tbody>\n",
       "    <tr>\n",
       "      <th>0</th>\n",
       "      <td>1</td>\n",
       "      <td>Marketing Intern</td>\n",
       "      <td>US, NY, New York</td>\n",
       "      <td>Marketing</td>\n",
       "      <td>NaN</td>\n",
       "      <td>We're Food52, and we've created a groundbreaki...</td>\n",
       "      <td>Food52, a fast-growing, James Beard Award-winn...</td>\n",
       "      <td>Experience with content management systems a m...</td>\n",
       "      <td>NaN</td>\n",
       "      <td>0</td>\n",
       "      <td>1</td>\n",
       "      <td>0</td>\n",
       "      <td>Other</td>\n",
       "      <td>Internship</td>\n",
       "      <td>NaN</td>\n",
       "      <td>NaN</td>\n",
       "      <td>Marketing</td>\n",
       "      <td>0</td>\n",
       "    </tr>\n",
       "  </tbody>\n",
       "</table>\n",
       "</div>"
      ],
      "text/plain": [
       "   job_id             title          location department salary_range  \\\n",
       "0       1  Marketing Intern  US, NY, New York  Marketing          NaN   \n",
       "\n",
       "                                     company_profile  \\\n",
       "0  We're Food52, and we've created a groundbreaki...   \n",
       "\n",
       "                                         description  \\\n",
       "0  Food52, a fast-growing, James Beard Award-winn...   \n",
       "\n",
       "                                        requirements benefits  telecommuting  \\\n",
       "0  Experience with content management systems a m...      NaN              0   \n",
       "\n",
       "   has_company_logo  has_questions employment_type required_experience  \\\n",
       "0                 1              0           Other          Internship   \n",
       "\n",
       "  required_education industry   function  fraudulent  \n",
       "0                NaN      NaN  Marketing           0  "
      ]
     },
     "execution_count": 4,
     "metadata": {},
     "output_type": "execute_result"
    }
   ],
   "source": [
    "job.head(1)"
   ]
  },
  {
   "cell_type": "code",
   "execution_count": 5,
   "id": "3be656b1-7f3c-4111-851e-b92a5350f916",
   "metadata": {},
   "outputs": [],
   "source": [
    "# location, company_profile , description, requirementss, employment_type"
   ]
  },
  {
   "cell_type": "code",
   "execution_count": 6,
   "id": "01f782c9-2fda-4256-9021-a8ae523f52c0",
   "metadata": {},
   "outputs": [],
   "source": [
    "job['title']  = job['title'].apply(str) \n",
    "job['location']  = job['location'].apply(str)   # check if needed\n",
    "job['company_profile']  = job['company_profile'].apply(str) \n",
    "job['description']  = job['description'].apply(str) \n",
    "job['requirements']  = job['requirements'].apply(str) \n",
    "job['employment_type']  = job['employment_type'].apply(str) \n",
    "job['department']  = job['department'].apply(str) \n",
    "job['salary_range']  = job['salary_range'].apply(str) \n",
    "job['benefits']  = job['benefits'].apply(str) \n",
    "job['telecommuting']  = job['telecommuting'].apply(str) \n",
    "job['has_company_logo']  = job['has_company_logo'].apply(str) \n",
    "job['has_questions']  = job['has_questions'].apply(str) \n",
    "job['required_experience']  = job['required_experience'].apply(str) \n",
    "job['required_education']  = job['required_education'].apply(str) \n",
    "job['industry']  = job['industry'].apply(str) \n",
    "job['function']  = job['function'].apply(str) \n",
    "#job['fraudulent']  = job['fraudulent'].apply(str) \n",
    "\n"
   ]
  },
  {
   "cell_type": "code",
   "execution_count": 7,
   "id": "b0f10b15-d3c7-4348-8237-6de605a2b855",
   "metadata": {},
   "outputs": [],
   "source": [
    "job['X'] = job['title']+\"    \"+job['location']+\"   \"+job['company_profile']+\"   \"+job['description']+\"   \"+job['requirements']+\"   \"+job['employment_type']+\"   \"+job['department']+\"   \"+job['salary_range']+\"   \"+job['benefits']+\"   \"+job['telecommuting']+\"   \"+job['has_company_logo']+\"   \"+job['has_questions']+\"   \"+job['required_experience']+\"   \"+job['required_education']+\"   \"+job['industry']+\"   \"+job['function']#+\"   \"+job['fraudulent']"
   ]
  },
  {
   "cell_type": "code",
   "execution_count": 8,
   "id": "6f102379-eed5-4b05-9622-573944cf6652",
   "metadata": {},
   "outputs": [
    {
     "data": {
      "text/plain": [
       "0        Marketing Intern    US, NY, New York   We're F...\n",
       "1        Customer Service - Cloud Video Production    N...\n",
       "2        Commissioning Machinery Assistant (CMA)    US,...\n",
       "3        Account Executive - Washington DC    US, DC, W...\n",
       "4        Bill Review Manager    US, FL, Fort Worth   Sp...\n",
       "                               ...                        \n",
       "17875    Account Director - Distribution     CA, ON, To...\n",
       "17876    Payroll Accountant    US, PA, Philadelphia   W...\n",
       "17877    Project Cost Control Staff Engineer - Cost Con...\n",
       "17878    Graphic Designer    NG, LA, Lagos   nan   Nems...\n",
       "17879    Web Application Developers    NZ, N, Wellingto...\n",
       "Name: X, Length: 17880, dtype: object"
      ]
     },
     "execution_count": 8,
     "metadata": {},
     "output_type": "execute_result"
    }
   ],
   "source": [
    "job['X']"
   ]
  },
  {
   "cell_type": "code",
   "execution_count": 9,
   "id": "5173e5f3-2ff3-482a-a7b8-ef41450057d1",
   "metadata": {},
   "outputs": [],
   "source": [
    "job.rename(columns = {'fraudulent': 'Y'} , inplace= True)"
   ]
  },
  {
   "cell_type": "code",
   "execution_count": 10,
   "id": "d455aa9f-6a0a-4532-ab5c-58f126fb7fc4",
   "metadata": {},
   "outputs": [],
   "source": [
    "#job.head()"
   ]
  },
  {
   "cell_type": "code",
   "execution_count": 11,
   "id": "81dc31d5-2c64-4f57-9b6c-6a928efd2e22",
   "metadata": {},
   "outputs": [],
   "source": [
    "#job.drop([\"job_id\"] , axis=1)"
   ]
  },
  {
   "cell_type": "code",
   "execution_count": 12,
   "id": "313c951e-75a3-452e-975d-4da40b2a95b8",
   "metadata": {},
   "outputs": [],
   "source": [
    "import nltk\n",
    "from nltk.corpus import stopwords\n",
    "l1 = list(stopwords.words('english'))"
   ]
  },
  {
   "cell_type": "code",
   "execution_count": 13,
   "id": "0a785fdd-574d-4188-9e0e-e2d3a71ad299",
   "metadata": {},
   "outputs": [],
   "source": [
    "job.X = job.X.str.lower()"
   ]
  },
  {
   "cell_type": "code",
   "execution_count": 14,
   "id": "588dbfa4-fa0d-46ec-a895-fd04aeb47a07",
   "metadata": {},
   "outputs": [
    {
     "data": {
      "text/plain": [
       "32"
      ]
     },
     "execution_count": 14,
     "metadata": {},
     "output_type": "execute_result"
    }
   ],
   "source": [
    "import string\n",
    "len(string.punctuation)"
   ]
  },
  {
   "cell_type": "code",
   "execution_count": 15,
   "id": "9c53d116-5a40-48e6-bc24-5e79c310600f",
   "metadata": {},
   "outputs": [],
   "source": [
    "def text_process(mess):\n",
    "    \"\"\"\n",
    "    1. remove the punctuation\n",
    "    2. remove the stopwords\n",
    "    3. return the list of clean textwords\n",
    "    \"\"\"\n",
    "    global nopunc\n",
    "    nopunc = [char for char in mess if char not in string.punctuation]\n",
    "    nopunc = \"\".join(nopunc)\n",
    "\n",
    "    return [ word for word in nopunc.split() if word not in l1]"
   ]
  },
  {
   "cell_type": "code",
   "execution_count": 16,
   "id": "2875b7af-67af-44ce-846e-e32f55b2d487",
   "metadata": {},
   "outputs": [],
   "source": [
    "from sklearn.feature_extraction.text import CountVectorizer"
   ]
  },
  {
   "cell_type": "code",
   "execution_count": 17,
   "id": "183bc449-e144-49b7-a3f3-77f7b65e5ea3",
   "metadata": {},
   "outputs": [],
   "source": [
    "bow_transformer = CountVectorizer(analyzer=text_process).fit(job[\"X\"])\n"
   ]
  },
  {
   "cell_type": "code",
   "execution_count": 18,
   "id": "9a0391b8-50c5-495a-9cd0-1975cd711c41",
   "metadata": {},
   "outputs": [
    {
     "data": {
      "text/plain": [
       "174463"
      ]
     },
     "execution_count": 18,
     "metadata": {},
     "output_type": "execute_result"
    }
   ],
   "source": [
    "len(bow_transformer.vocabulary_)"
   ]
  },
  {
   "cell_type": "code",
   "execution_count": 19,
   "id": "6c4eb847-8de2-4e1d-8d24-c7ab5c00561c",
   "metadata": {},
   "outputs": [],
   "source": [
    "TDM = bow_transformer.transform(job[\"X\"])"
   ]
  },
  {
   "cell_type": "code",
   "execution_count": 20,
   "id": "52d9da19-ffa8-4d94-95b4-267eca30c019",
   "metadata": {},
   "outputs": [
    {
     "data": {
      "text/plain": [
       "(17880, 174463)"
      ]
     },
     "execution_count": 20,
     "metadata": {},
     "output_type": "execute_result"
    }
   ],
   "source": [
    "TDM.shape"
   ]
  },
  {
   "cell_type": "code",
   "execution_count": 21,
   "id": "6035dcb1-61cd-4df4-9bb8-fa80675c109a",
   "metadata": {},
   "outputs": [],
   "source": [
    "from sklearn.model_selection import train_test_split\n",
    "train_x , test_x, train_y , test_y = train_test_split(TDM , job.Y)"
   ]
  },
  {
   "cell_type": "code",
   "execution_count": 22,
   "id": "52994aee-f756-4451-9a15-ad195f114ecf",
   "metadata": {},
   "outputs": [
    {
     "data": {
      "text/plain": [
       "array([[4227,   18],\n",
       "       [  56,  169]], dtype=int64)"
      ]
     },
     "execution_count": 22,
     "metadata": {},
     "output_type": "execute_result"
    }
   ],
   "source": [
    "from sklearn.metrics import confusion_matrix , accuracy_score , recall_score ,precision_score, f1_score , classification_report\n",
    "from sklearn.linear_model  import LogisticRegression\n",
    "logreg = LogisticRegression()\n",
    "logreg.fit(train_x , train_y)\n",
    "pred_log = logreg.predict(test_x)\n",
    "tab_log = confusion_matrix(test_y , pred_log)\n",
    "tab_log"
   ]
  },
  {
   "cell_type": "code",
   "execution_count": 23,
   "id": "cfffe2b2-bf30-43be-b8f0-a77039d717bc",
   "metadata": {},
   "outputs": [
    {
     "data": {
      "text/plain": [
       "98.34451901565996"
      ]
     },
     "execution_count": 23,
     "metadata": {},
     "output_type": "execute_result"
    }
   ],
   "source": [
    "tab_log.diagonal().sum() *100 / tab_log.sum()"
   ]
  },
  {
   "cell_type": "code",
   "execution_count": 24,
   "id": "aff11149-557f-4f0e-ad5e-b94f9386c756",
   "metadata": {},
   "outputs": [
    {
     "name": "stdout",
     "output_type": "stream",
     "text": [
      "              precision    recall  f1-score   support\n",
      "\n",
      "           0       0.99      1.00      0.99      4245\n",
      "           1       0.90      0.75      0.82       225\n",
      "\n",
      "    accuracy                           0.98      4470\n",
      "   macro avg       0.95      0.87      0.91      4470\n",
      "weighted avg       0.98      0.98      0.98      4470\n",
      "\n"
     ]
    }
   ],
   "source": [
    "print(classification_report(test_y , pred_log))"
   ]
  },
  {
   "cell_type": "code",
   "execution_count": 25,
   "id": "4d694d66-096d-4006-b71a-b1fbfd891d16",
   "metadata": {},
   "outputs": [
    {
     "data": {
      "text/plain": [
       "array([[4208,   37],\n",
       "       [  57,  168]], dtype=int64)"
      ]
     },
     "execution_count": 25,
     "metadata": {},
     "output_type": "execute_result"
    }
   ],
   "source": [
    "from sklearn.tree import DecisionTreeClassifier\n",
    "dt = DecisionTreeClassifier()\n",
    "dt.fit(train_x ,train_y)\n",
    "pred_dt = dt.predict(test_x)\n",
    "tab_dt = confusion_matrix(test_y , pred_dt)\n",
    "tab_dt"
   ]
  },
  {
   "cell_type": "code",
   "execution_count": 26,
   "id": "7f6f47d5-158e-41c3-99ca-4452cbfb12f5",
   "metadata": {},
   "outputs": [
    {
     "data": {
      "text/plain": [
       "97.89709172259508"
      ]
     },
     "execution_count": 26,
     "metadata": {},
     "output_type": "execute_result"
    }
   ],
   "source": [
    "tab_dt.diagonal().sum() *100 / tab_dt.sum()"
   ]
  },
  {
   "cell_type": "code",
   "execution_count": 27,
   "id": "a5a2cf9f-59a5-498b-b78f-9e02c1a63b5e",
   "metadata": {},
   "outputs": [
    {
     "name": "stdout",
     "output_type": "stream",
     "text": [
      "              precision    recall  f1-score   support\n",
      "\n",
      "           0       0.99      0.99      0.99      4245\n",
      "           1       0.82      0.75      0.78       225\n",
      "\n",
      "    accuracy                           0.98      4470\n",
      "   macro avg       0.90      0.87      0.89      4470\n",
      "weighted avg       0.98      0.98      0.98      4470\n",
      "\n"
     ]
    }
   ],
   "source": [
    "print(classification_report(test_y , pred_dt))"
   ]
  },
  {
   "cell_type": "code",
   "execution_count": 28,
   "id": "f12820c1-c7c9-4219-9c6e-7cbcb834219e",
   "metadata": {},
   "outputs": [
    {
     "data": {
      "text/plain": [
       "array([[4224,   21],\n",
       "       [ 143,   82]], dtype=int64)"
      ]
     },
     "execution_count": 28,
     "metadata": {},
     "output_type": "execute_result"
    }
   ],
   "source": [
    "from sklearn.naive_bayes import MultinomialNB\n",
    "nb = MultinomialNB()\n",
    "nb.fit(train_x ,train_y)\n",
    "pred_nb = nb.predict(test_x)\n",
    "tab_nb = confusion_matrix(test_y , pred_nb)\n",
    "tab_nb"
   ]
  },
  {
   "cell_type": "code",
   "execution_count": 29,
   "id": "0381bc19-b511-4e12-afce-10cff7ab99da",
   "metadata": {},
   "outputs": [
    {
     "data": {
      "text/plain": [
       "96.331096196868"
      ]
     },
     "execution_count": 29,
     "metadata": {},
     "output_type": "execute_result"
    }
   ],
   "source": [
    "tab_nb.diagonal().sum() *100 / tab_nb.sum()"
   ]
  },
  {
   "cell_type": "code",
   "execution_count": 30,
   "id": "a550beeb-103b-4195-8fd5-cf61a9343e0f",
   "metadata": {},
   "outputs": [
    {
     "name": "stdout",
     "output_type": "stream",
     "text": [
      "              precision    recall  f1-score   support\n",
      "\n",
      "           0       0.97      1.00      0.98      4245\n",
      "           1       0.80      0.36      0.50       225\n",
      "\n",
      "    accuracy                           0.96      4470\n",
      "   macro avg       0.88      0.68      0.74      4470\n",
      "weighted avg       0.96      0.96      0.96      4470\n",
      "\n"
     ]
    }
   ],
   "source": [
    "print(classification_report(test_y , pred_nb))"
   ]
  },
  {
   "cell_type": "code",
   "execution_count": null,
   "id": "d2c5c5d3-ee3a-4145-9029-86a587c8ee60",
   "metadata": {},
   "outputs": [],
   "source": []
  },
  {
   "cell_type": "code",
   "execution_count": null,
   "id": "399ce386-b67b-4063-8330-add243f4cc6e",
   "metadata": {},
   "outputs": [],
   "source": []
  },
  {
   "cell_type": "code",
   "execution_count": null,
   "id": "a62598a8-c382-4aba-9742-29088d8f499c",
   "metadata": {},
   "outputs": [],
   "source": []
  },
  {
   "cell_type": "code",
   "execution_count": null,
   "id": "2366135f-b5ef-4b97-8402-0f082bf9261a",
   "metadata": {},
   "outputs": [],
   "source": []
  },
  {
   "cell_type": "code",
   "execution_count": null,
   "id": "628262b9-100c-4c2a-aaf9-ec1af30c170b",
   "metadata": {},
   "outputs": [],
   "source": []
  }
 ],
 "metadata": {
  "kernelspec": {
   "display_name": "Python 3 (ipykernel)",
   "language": "python",
   "name": "python3"
  },
  "language_info": {
   "codemirror_mode": {
    "name": "ipython",
    "version": 3
   },
   "file_extension": ".py",
   "mimetype": "text/x-python",
   "name": "python",
   "nbconvert_exporter": "python",
   "pygments_lexer": "ipython3",
   "version": "3.12.4"
  }
 },
 "nbformat": 4,
 "nbformat_minor": 5
}
